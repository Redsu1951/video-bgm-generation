{
  "nbformat": 4,
  "nbformat_minor": 0,
  "metadata": {
    "colab": {
      "name": "CMT.ipynb",
      "private_outputs": true,
      "provenance": [],
      "gpuType": "V28",
      "include_colab_link": true
    },
    "kernelspec": {
      "name": "python3",
      "display_name": "Python 3"
    },
    "language_info": {
      "name": "python"
    },
    "accelerator": "TPU"
  },
  "cells": [
    {
      "cell_type": "markdown",
      "metadata": {
        "id": "view-in-github",
        "colab_type": "text"
      },
      "source": [
        "<a href=\"https://colab.research.google.com/github/Redsu1951/video-bgm-generation/blob/main/finalprojecttelbot.ipynb\" target=\"_parent\"><img src=\"https://colab.research.google.com/assets/colab-badge.svg\" alt=\"Open In Colab\"/></a>"
      ]
    },
    {
      "cell_type": "markdown",
      "source": [
        "# **Demo of Controllable Music Transformer**\n",
        "\n",
        "We provide a colab notebook for running inference with CMT. You can upload a video and generate a background music using this notebook."
      ],
      "metadata": {
        "id": "Qx-JUsBYpv3X"
      }
    },
    {
      "cell_type": "markdown",
      "source": [
        "# 1. Preparation"
      ],
      "metadata": {
        "id": "iGsKCYiR8ZBy"
      }
    },
    {
      "cell_type": "markdown",
      "source": [
        "Clone the repo"
      ],
      "metadata": {
        "id": "t34LcwtQGq7_"
      }
    },
    {
      "cell_type": "code",
      "execution_count": null,
      "metadata": {
        "id": "YMTYugKn6NNp"
      },
      "outputs": [],
      "source": [
        "import os\n",
        "from google.colab import files\n",
        "import json\n",
        "\n",
        "os.chdir('/content')\n",
        "!git clone https://github.com/Redsu1951/video-bgm-generation\n",
        "os.chdir('/content/video-bgm-generation')"
      ]
    },
    {
      "cell_type": "code",
      "source": [
        "# Environment Setup - These should be run first\n",
        "import os\n",
        "os.environ['XDG_RUNTIME_DIR'] = \"/tmp/runtime\"\n",
        "os.environ[\"ALSA_CARD\"] = \"hw:0\"\n",
        "os.environ[\"SDL_AUDIODRIVER\"] = \"dummy\"\n",
        "\n",
        "# Install System Dependencies\n",
        "!apt-get update && apt-get install -y libfluidsynth1 build-essential libasound2-dev libjack-dev fluidsynth libsndfile1 ffmpeg\n",
        "\n",
        "# Install Python Dependencies\n",
        "!pip install --upgrade pip\n",
        "!pip install pytorch-fast-transformers==0.4.0\n",
        "!pip install -r py3_requirements.txt\n",
        "!pip install skvideo moviepy==1.0.3 muspy numpy==1.23.5\n",
        "\n",
        "# Install Additional Packages if needed\n",
        "!pip install ffmpeg\n",
        "\n",
        "# Download Required Files from Google Cloud Storage\n",
        "!gsutil -m cp gs://cmt/loss_8_params.pt /content/video-bgm-generation/exp/\n",
        "!gsutil -m cp gs://magentadata/soundfonts/SGM-v2.01-Sal-Guit-Bass-V1.3.sf2 /content/video-bgm-generation/\n",
        "\n",
        "# Navigate to the appropriate directory and install additional modules\n",
        "os.chdir(\"/content/video-bgm-generation/src/video2npz/visbeat3/\")\n",
        "!python setup.py install"
      ],
      "metadata": {
        "id": "wy4rFE2AgSnk"
      },
      "execution_count": null,
      "outputs": []
    },
    {
      "cell_type": "code",
      "source": [
        "!pip install muspy"
      ],
      "metadata": {
        "id": "p_6jHIdcqpoJ"
      },
      "execution_count": null,
      "outputs": []
    },
    {
      "cell_type": "code",
      "source": [
        "import os\n",
        "import telebot\n",
        "import traceback\n",
        "import subprocess\n",
        "import shutil\n",
        "\n",
        "# Telegram Bot Token\n",
        "BOT_TOKEN = '7904087543:AAHHnMGSu9jh0SP4tRrGWGhL5lTT5pbEs9U'\n",
        "\n",
        "# Paths\n",
        "PROJECT_ROOT = '/content/video-bgm-generation'\n",
        "VIDEOS_DIR = os.path.join(PROJECT_ROOT, 'videos')\n",
        "INFERENCE_DIR = os.path.join(PROJECT_ROOT, 'inference')\n",
        "VIDEO2NPZ_DIR = os.path.join(PROJECT_ROOT, 'src/video2npz')\n",
        "\n",
        "# Ensure required directories exist\n",
        "os.makedirs(VIDEOS_DIR, exist_ok=True)\n",
        "os.makedirs(INFERENCE_DIR, exist_ok=True)\n",
        "\n",
        "# Initialize Telegram Bot\n",
        "bot = telebot.TeleBot(BOT_TOKEN)\n",
        "\n",
        "@bot.message_handler(commands=['start'])\n",
        "def send_welcome(message):\n",
        "    bot.reply_to(message, \"👋 Hello! Send me a video, and I'll process it.\")\n",
        "\n",
        "@bot.message_handler(content_types=['video'])\n",
        "def handle_video(message):\n",
        "    try:\n",
        "        # Step 1: Clear all necessary folders before processing a new video\n",
        "        clear_videos_folder()\n",
        "        clear_inference_folder()\n",
        "        clear_processing_folders()\n",
        "        print(\"✅ Cleared all necessary folders.\")\n",
        "\n",
        "        bot.reply_to(message, \"📥 Received your video. Downloading now...\")\n",
        "\n",
        "        # Step 2: Download video from Telegram\n",
        "        file_info = bot.get_file(message.video.file_id)\n",
        "        downloaded_file = bot.download_file(file_info.file_path)\n",
        "\n",
        "        # Step 3: Save original video\n",
        "        original_video_path = os.path.join(VIDEOS_DIR, 'original_video.mp4')\n",
        "        with open(original_video_path, 'wb') as new_file:\n",
        "            new_file.write(downloaded_file)\n",
        "\n",
        "        # Step 4: Re-encode video and convert to 360p\n",
        "        reencoded_video_path = os.path.join(VIDEOS_DIR, 'test_raw.mp4')\n",
        "        convert_video_to_360p(original_video_path, reencoded_video_path)\n",
        "\n",
        "        converted_video_path = os.path.join(VIDEOS_DIR, 'test.mp4')\n",
        "        convert_video_to_360p(reencoded_video_path, converted_video_path)\n",
        "\n",
        "        bot.reply_to(message, \"✅ Video processed successfully! Now generating music...\")\n",
        "\n",
        "        # Step 5: Generate MIDI file\n",
        "        midi_file_path = generate_music_from_video(converted_video_path)\n",
        "\n",
        "        bot.reply_to(message, \"🎶 MIDI file has been generated! Sending it now...\")\n",
        "\n",
        "        # Step 6: Send MIDI file to user\n",
        "        with open(midi_file_path, 'rb') as midi_file:\n",
        "            bot.send_document(message.chat.id, midi_file)\n",
        "\n",
        "        bot.reply_to(message, \"✅ MIDI file sent successfully!\")\n",
        "\n",
        "    except Exception as e:\n",
        "        bot.reply_to(message, f\"❌ Error: {str(e)}\")\n",
        "        print(\"Error details:\")\n",
        "        traceback.print_exc()\n",
        "\n",
        "def clear_videos_folder():\n",
        "    \"\"\"Remove all files in the videos folder but keep the folder itself.\"\"\"\n",
        "    if os.path.exists(VIDEOS_DIR):\n",
        "        for filename in os.listdir(VIDEOS_DIR):\n",
        "            file_path = os.path.join(VIDEOS_DIR, filename)\n",
        "            try:\n",
        "                if os.path.isfile(file_path) or os.path.islink(file_path):\n",
        "                    os.remove(file_path)  # Delete files or symlinks\n",
        "                elif os.path.isdir(file_path):\n",
        "                    shutil.rmtree(file_path)  # Delete subfolders if any\n",
        "            except Exception as e:\n",
        "                print(f\"Error clearing {file_path}: {e}\")\n",
        "\n",
        "def clear_inference_folder():\n",
        "    \"\"\"Remove all files in the inference folder before generating a new MIDI file.\"\"\"\n",
        "    if os.path.exists(INFERENCE_DIR):\n",
        "        for filename in os.listdir(INFERENCE_DIR):\n",
        "            file_path = os.path.join(INFERENCE_DIR, filename)\n",
        "            try:\n",
        "                if os.path.isfile(file_path) or os.path.islink(file_path):\n",
        "                    os.remove(file_path)  # Delete files or symlinks\n",
        "            except Exception as e:\n",
        "                print(f\"Error clearing {file_path}: {e}\")\n",
        "\n",
        "def clear_processing_folders():\n",
        "    \"\"\"Remove processing-related folders inside src/video2npz.\"\"\"\n",
        "    directories_to_remove = [\"VisBeatAssets\", \"fig\", \"flow\", \"image\", \"optical_flow\"]\n",
        "    for directory in directories_to_remove:\n",
        "        dir_path = os.path.join(VIDEO2NPZ_DIR, directory)\n",
        "        if os.path.exists(dir_path):\n",
        "            try:\n",
        "                shutil.rmtree(dir_path)  # Delete the folder\n",
        "                print(f\"Removed {dir_path}\")\n",
        "            except Exception as e:\n",
        "                print(f\"Error removing {dir_path}: {e}\")\n",
        "        else:\n",
        "            print(f\"Skipping {dir_path}, does not exist.\")\n",
        "\n",
        "def convert_video_to_360p(input_video_path, output_video_path):\n",
        "    \"\"\"Convert the video to 360p resolution using ffmpeg.\"\"\"\n",
        "    try:\n",
        "        print(f\"Converting {input_video_path} to 360p...\")\n",
        "        subprocess.run(['ffmpeg', '-i', input_video_path, '-strict', '-2', '-vf', 'scale=-1:360', output_video_path], check=True)\n",
        "        print(f\"✅ Saved 360p video to {output_video_path}\")\n",
        "    except Exception as e:\n",
        "        print(f\"Error during conversion: {e}\")\n",
        "        raise e\n",
        "\n",
        "def generate_music_from_video(converted_video_path):\n",
        "    \"\"\"Run the model pipeline to generate music following the correct order.\"\"\"\n",
        "    try:\n",
        "        os.chdir(VIDEO2NPZ_DIR)\n",
        "\n",
        "        # Step 1: Extract optical flow\n",
        "        subprocess.run(['python', 'optical_flow.py', '--video', '/content/video-bgm-generation/videos/test.mp4', '--method', 'farneback'], check=True)\n",
        "\n",
        "        # Step 2: Generate metadata\n",
        "        subprocess.run(['python3', os.path.join(VIDEO2NPZ_DIR, 'video2metadata.py'), '--video', '/content/video-bgm-generation/videos/test.mp4'], check=True)\n",
        "\n",
        "        subprocess.run(['python', os.path.join(VIDEO2NPZ_DIR, 'metadata2numpy_mix.py'),\n",
        "                        '--metadata', os.path.join(VIDEO2NPZ_DIR, 'metadata.json'),\n",
        "                        '--video', '/content/video-bgm-generation/videos/test.mp4',\n",
        "                        '--out_dir', INFERENCE_DIR], check=True)\n",
        "\n",
        "        # Step 3: Generate MIDI file\n",
        "        os.chdir(\"/content/video-bgm-generation/src/\")\n",
        "        subprocess.run(['python', 'gen_midi_conditional.py',\n",
        "                        '-f', os.path.join(INFERENCE_DIR, 'test.npz'),\n",
        "                        '-c', os.path.join(PROJECT_ROOT, 'exp/loss_8_params.pt'),\n",
        "                        '-n', '1'], check=True)\n",
        "\n",
        "        print(\"✅ MIDI file successfully generated!\")\n",
        "\n",
        "        # Step 4: Return the path of the generated MIDI file\n",
        "        midi_file_path = os.path.join(INFERENCE_DIR, 'test.npz_0.mid')\n",
        "        if os.path.exists(midi_file_path):\n",
        "            return midi_file_path\n",
        "        else:\n",
        "            raise FileNotFoundError(\"MIDI file was not generated!\")\n",
        "\n",
        "    except Exception as e:\n",
        "        print(f\"Error during music generation: {e}\")\n",
        "        raise e\n",
        "\n",
        "bot.polling(none_stop=True)\n"
      ],
      "metadata": {
        "id": "cjZ4l5SIUgjv"
      },
      "execution_count": null,
      "outputs": []
    },
    {
      "cell_type": "code",
      "source": [
        "os.chdir(\"/content/video-bgm-generation/src/\")\n",
        "!python gen_midi_conditional.py -f \"../inference/test.npz\" -c \"../exp/loss_8_params.pt\" -n 1"
      ],
      "metadata": {
        "id": "PkrTLRSDdavY"
      },
      "execution_count": null,
      "outputs": []
    },
    {
      "cell_type": "markdown",
      "source": [
        "Download checkpoint and soundfont\n",
        "\n"
      ],
      "metadata": {
        "id": "X9ZN2EbvG9J4"
      }
    },
    {
      "cell_type": "code",
      "source": [
        "!gsutil -m cp gs://cmt/loss_8_params.pt /content/video-bgm-generation/exp/\n",
        "!gsutil -m cp gs://magentadata/soundfonts/SGM-v2.01-Sal-Guit-Bass-V1.3.sf2 /content/video-bgm-generation/"
      ],
      "metadata": {
        "id": "c7XER9vH8mfb"
      },
      "execution_count": null,
      "outputs": []
    },
    {
      "cell_type": "markdown",
      "source": [
        "Install dependencies"
      ],
      "metadata": {
        "id": "b4RRCIybl7_I"
      }
    },
    {
      "cell_type": "code",
      "source": [
        "!apt-get update && apt-get install libfluidsynth1 build-essential libasound2-dev libjack-dev fluidsynth"
      ],
      "metadata": {
        "id": "efg5Ya8cJL5o"
      },
      "execution_count": null,
      "outputs": []
    },
    {
      "cell_type": "code",
      "source": [
        "import os"
      ],
      "metadata": {
        "id": "OLg-UzhW0ZtO"
      },
      "execution_count": null,
      "outputs": []
    },
    {
      "cell_type": "code",
      "source": [
        "!pip install --upgrade pip\n",
        "# this may take ~15 minutes\n",
        "!pip install pytorch-fast-transformers==0.4.0\n",
        "# Note: Version of pytorch-fast-transformers is tricky - depends on your randomly assigned colab GPU, it could be 0.3.0 or 0.4.0 or others.\n",
        "# Incorrect fast-transformers version could lead to Errors or generating awful results for unknown reasons,\n",
        "# so you should try different versions, or refer to https://github.com/idiap/fast-transformers\n",
        "\n",
        "!pip install -r py3_requirements.txt\n",
        "os.chdir(\"/content/video-bgm-generation/src/video2npz/visbeat3/\")\n",
        "!python setup.py install"
      ],
      "metadata": {
        "id": "SkRSrynzSrA-"
      },
      "execution_count": null,
      "outputs": []
    },
    {
      "cell_type": "markdown",
      "source": [
        "# 2. Process input video"
      ],
      "metadata": {
        "id": "ygRjsNf5F0FT"
      }
    },
    {
      "cell_type": "markdown",
      "source": [
        "Upload your video\n",
        "\n",
        "It is recommended to use videos **less than 2 minutes**, otherwise it gets really slow"
      ],
      "metadata": {
        "id": "QMS5SlFOrVv-"
      }
    },
    {
      "cell_type": "code",
      "source": [
        "os.chdir(\"/content/video-bgm-generation/\")\n",
        "uploaded = files.upload()\n",
        "assert len(uploaded) == 1, \"upload one video file only\"\n",
        "filename = list(uploaded.keys())[0]\n",
        "os.system(f'mv {filename} videos/test_raw.mp4')"
      ],
      "metadata": {
        "id": "gczMG7TyQYCC"
      },
      "execution_count": null,
      "outputs": []
    },
    {
      "cell_type": "markdown",
      "source": [
        "Convert to 360p to speed up extracting optical flow and visbeats"
      ],
      "metadata": {
        "id": "dR5dCMo5qfk-"
      }
    },
    {
      "cell_type": "code",
      "source": [
        "os.chdir(\"/content/video-bgm-generation/videos/\")\n",
        "!rm test.mp4\n",
        "!ffmpeg -i test_raw.mp4 -strict -2 -vf scale=-1:360 test.mp4"
      ],
      "metadata": {
        "id": "RzRrVu9RqTZ6"
      },
      "execution_count": null,
      "outputs": []
    },
    {
      "cell_type": "markdown",
      "source": [
        "Extracting optical flow and visbeats, convert video into npz file"
      ],
      "metadata": {
        "id": "sgm_TOq7QYXn"
      }
    },
    {
      "cell_type": "code",
      "source": [
        "os.chdir(\"/content/video-bgm-generation/src/video2npz/\")\n",
        "!rm -r VisBeatAssets/ fig/ flow/ image/ optical_flow/\n",
        "\n",
        "# extracting optical flow and visbeats may be slow"
      ],
      "metadata": {
        "id": "y_l8VDLFFE-c"
      },
      "execution_count": null,
      "outputs": []
    },
    {
      "cell_type": "code",
      "source": [
        "!pip install ffmpeg\n",
        "!pip install skvideo\n"
      ],
      "metadata": {
        "id": "A6cOysP8Qrof"
      },
      "execution_count": null,
      "outputs": []
    },
    {
      "cell_type": "code",
      "source": [
        "!python optical_flow.py --video '/content/video-bgm-generation/videos/test.mp4' --method 'farneback'\n"
      ],
      "metadata": {
        "id": "pTNQAI8zQi3d"
      },
      "execution_count": null,
      "outputs": []
    },
    {
      "cell_type": "code",
      "source": [
        "!pip install moviepy==1.0.3\n"
      ],
      "metadata": {
        "id": "QQWRRx9TUs_o"
      },
      "execution_count": null,
      "outputs": []
    },
    {
      "cell_type": "code",
      "source": [
        "os.chdir(\"/content/video-bgm-generation/src/video2npz/\")"
      ],
      "metadata": {
        "id": "rkCepyTUVNlY"
      },
      "execution_count": null,
      "outputs": []
    },
    {
      "cell_type": "code",
      "source": [
        "!pip install numpy==1.24\n"
      ],
      "metadata": {
        "id": "BFF9oCzkVpSX"
      },
      "execution_count": null,
      "outputs": []
    },
    {
      "cell_type": "code",
      "source": [
        "import os\n",
        "os.environ['XDG_RUNTIME_DIR'] = \"/tmp/runtime\"\n"
      ],
      "metadata": {
        "id": "DlgYOcfzaTFL"
      },
      "execution_count": null,
      "outputs": []
    },
    {
      "cell_type": "code",
      "source": [
        "import os\n",
        "os.environ[\"ALSA_CARD\"] = \"hw:0\"\n",
        "os.environ[\"SDL_AUDIODRIVER\"] = \"dummy\"\n"
      ],
      "metadata": {
        "id": "e2A9vdZhan4f"
      },
      "execution_count": null,
      "outputs": []
    },
    {
      "cell_type": "code",
      "source": [
        "!apt-get install -y libsndfile1\n"
      ],
      "metadata": {
        "id": "1CYV0FcAbEIt"
      },
      "execution_count": null,
      "outputs": []
    },
    {
      "cell_type": "code",
      "source": [
        "\n"
      ],
      "metadata": {
        "id": "TwciIvSkgEbC"
      },
      "execution_count": null,
      "outputs": []
    },
    {
      "cell_type": "code",
      "source": [
        "!python3 /content/video-bgm-generation/src/video2npz/video2metadata.py --video /content/video-bgm-generation/videos/test.mp4\n"
      ],
      "metadata": {
        "id": "YZP09xq2Ulhn"
      },
      "execution_count": null,
      "outputs": []
    },
    {
      "cell_type": "code",
      "source": [
        "!python /content/video-bgm-generation/src/video2npz/metadata2numpy_mix.py --metadata /content/video-bgm-generation/src/video2npz/metadata.json --video /content/video-bgm-generation/videos/test.mp4 --out_dir /content/video-bgm-generation/inference\n"
      ],
      "metadata": {
        "id": "lclfcMS3iTX0"
      },
      "execution_count": null,
      "outputs": []
    },
    {
      "cell_type": "code",
      "source": [
        "!pip install muspy\n"
      ],
      "metadata": {
        "id": "vEQw0vc-mXtt"
      },
      "execution_count": null,
      "outputs": []
    },
    {
      "cell_type": "markdown",
      "source": [
        "# 3. Run the model to generate background music"
      ],
      "metadata": {
        "id": "-JASD-zxJZJt"
      }
    },
    {
      "cell_type": "markdown",
      "source": [
        "Run inference to generate MIDI (.mid) output"
      ],
      "metadata": {
        "id": "TpZnfeIsHhyM"
      }
    },
    {
      "cell_type": "code",
      "source": [
        "os.chdir(\"/content/video-bgm-generation/src/\")\n",
        "!python gen_midi_conditional.py -f \"../inference/test.npz\" -c \"../exp/loss_8_params.pt\" -n 1"
      ],
      "metadata": {
        "id": "Xxus1H-XGHXj"
      },
      "execution_count": null,
      "outputs": []
    },
    {
      "cell_type": "code",
      "source": [
        "from google.colab import files\n"
      ],
      "metadata": {
        "id": "6BJiFIvRvOfN"
      },
      "execution_count": null,
      "outputs": []
    },
    {
      "cell_type": "markdown",
      "source": [
        "Convert midi into audio: use **GarageBand (recommended)** or midi2audio\n",
        "\n",
        "Remember to **set tempo to the value of tempo in video2npz/metadata.json**"
      ],
      "metadata": {
        "id": "pR3rUJWIJnVp"
      }
    },
    {
      "cell_type": "code",
      "source": [
        "from google.colab import files\n",
        "import os\n",
        "import json\n",
        "\n",
        "# Change directory\n",
        "os.chdir(\"/content/video-bgm-generation/src/\")\n",
        "\n",
        "# Download the file\n",
        "files.download('../inference/test.npz_0.mid')\n",
        "\n",
        "# Load metadata and print tempo\n",
        "with open(\"video2npz/metadata.json\") as f:\n",
        "    tempo = json.load(f)['tempo']\n",
        "    print(\"tempo:\", tempo)\n"
      ],
      "metadata": {
        "id": "lKR7qWinMUFM"
      },
      "execution_count": null,
      "outputs": []
    },
    {
      "cell_type": "code",
      "source": [
        "!apt-get update\n",
        "!apt-get install -y fluidsynth"
      ],
      "metadata": {
        "id": "TGxqX9vpvz2V"
      },
      "execution_count": null,
      "outputs": []
    },
    {
      "cell_type": "code",
      "source": [
        "!pip install pyfluidsynth"
      ],
      "metadata": {
        "id": "KeBi1aHny9xJ"
      },
      "execution_count": null,
      "outputs": []
    },
    {
      "cell_type": "code",
      "source": [
        "!pip install --force-reinstall pyfluidsynth"
      ],
      "metadata": {
        "id": "qIcCRg1ozW-v"
      },
      "execution_count": null,
      "outputs": []
    },
    {
      "cell_type": "code",
      "source": [
        "import pyfluidsynth\n",
        "print(pyfluidsynth.__version__)  # This should print the version if installed correctly"
      ],
      "metadata": {
        "id": "zFmrpZbtzM5N"
      },
      "execution_count": null,
      "outputs": []
    },
    {
      "cell_type": "markdown",
      "source": [
        "Generate audio with midi2audio\n",
        "\n",
        "Instead of running this cell, we recommend using GarageBand or other softwares, since their soundfonts are better. But this also works fine"
      ],
      "metadata": {
        "id": "GzEb08C4ovjD"
      }
    },
    {
      "cell_type": "code",
      "source": [
        "import note_seq\n",
        "from pretty_midi import PrettyMIDI\n",
        "import pyfluidsynth\n",
        "import numpy as np\n",
        "import os\n",
        "\n",
        "SAMPLE_RATE = 16000\n",
        "SF2_PATH = '/content/video-bgm-generation/SGM-v2.01-Sal-Guit-Bass-V1.3.sf2'\n",
        "os.chdir(\"/content/video-bgm-generation/inference/\")\n",
        "\n",
        "# Load MIDI file\n",
        "input_mid = 'test.npz_0.mid'\n",
        "midi_obj = PrettyMIDI(input_mid)\n",
        "\n",
        "# Convert tempo (adjust if necessary)\n",
        "tempo = 120  # Adjust tempo if needed\n",
        "midi_length = midi_obj.get_end_time()\n",
        "midi_obj.adjust_times([0, midi_length], [0, midi_length*120/tempo])\n",
        "processed_mid = input_mid[:-4] + \"_processed.mid\"\n",
        "midi_obj.write(processed_mid)\n",
        "\n",
        "# Convert MIDI to audio\n",
        "fs = pyfluidsynth.Synth()\n",
        "fs.sfload(SF2_PATH)\n",
        "fs.start(driver=\"alsa\")  # Ensures audio output works correctly\n",
        "fs.midi_to_audio(processed_mid, \"music.wav\")\n",
        "\n",
        "print(\"Audio generated as 'music.wav'\")\n"
      ],
      "metadata": {
        "id": "fZHzA0UtKDWa"
      },
      "execution_count": null,
      "outputs": []
    },
    {
      "cell_type": "markdown",
      "source": [
        "Combine original video and audio into video with BGM\n",
        "\n",
        "Generate/upload the audio file under `inference`, name it as `music.mp3`, and run this to combine video and music"
      ],
      "metadata": {
        "id": "KKObBCKBKlU1"
      }
    },
    {
      "cell_type": "code",
      "source": [
        "os.chdir(\"/content/video-bgm-generation/inference/\")\n",
        "!rm output.mp4\n",
        "!ffmpeg -i ../videos/test_raw.mp4 -i music.mp3 -c:v copy -c:a aac -strict experimental -map 0:v:0 -map 1:a:0 output.mp4\n",
        "files.download('output.mp4')"
      ],
      "metadata": {
        "id": "SqNLXFzmLPjP"
      },
      "execution_count": null,
      "outputs": []
    }
  ]
}