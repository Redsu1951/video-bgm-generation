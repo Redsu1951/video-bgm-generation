{
  "nbformat": 4,
  "nbformat_minor": 0,
  "metadata": {
    "colab": {
      "name": "CMT.ipynb",
      "private_outputs": true,
      "provenance": [],
      "gpuType": "V28",
      "include_colab_link": true
    },
    "kernelspec": {
      "name": "python3",
      "display_name": "Python 3"
    },
    "language_info": {
      "name": "python"
    },
    "accelerator": "TPU"
  },
  "cells": [
    {
      "cell_type": "markdown",
      "metadata": {
        "id": "view-in-github",
        "colab_type": "text"
      },
      "source": [
        "<a href=\"https://colab.research.google.com/github/Redsu1951/video-bgm-generation/blob/main/finalproject.ipynb\" target=\"_parent\"><img src=\"https://colab.research.google.com/assets/colab-badge.svg\" alt=\"Open In Colab\"/></a>"
      ]
    },
    {
      "cell_type": "markdown",
      "source": [
        "# **Demo of Controllable Music Transformer**\n",
        "\n",
        "We provide a colab notebook for running inference with CMT. You can upload a video and generate a background music using this notebook."
      ],
      "metadata": {
        "id": "Qx-JUsBYpv3X"
      }
    },
    {
      "cell_type": "markdown",
      "source": [
        "# 1. Preparation"
      ],
      "metadata": {
        "id": "iGsKCYiR8ZBy"
      }
    },
    {
      "cell_type": "markdown",
      "source": [
        "Clone the repo"
      ],
      "metadata": {
        "id": "t34LcwtQGq7_"
      }
    },
    {
      "cell_type": "code",
      "execution_count": null,
      "metadata": {
        "id": "YMTYugKn6NNp"
      },
      "outputs": [],
      "source": [
        "import os\n",
        "from google.colab import files\n",
        "import json\n",
        "\n",
        "os.chdir('/content')\n",
        "!git clone https://github.com/Redsu1951/video-bgm-generation\n",
        "os.chdir('/content/video-bgm-generation')"
      ]
    },
    {
      "cell_type": "code",
      "source": [
        "\n"
      ],
      "metadata": {
        "id": "yjMx7bxXq3MQ"
      },
      "execution_count": null,
      "outputs": []
    },
    {
      "cell_type": "code",
      "source": [
        "import os\n",
        "import logging\n",
        "from telegram import Update\n",
        "from telegram.ext import Updater, CommandHandler, MessageHandler, CallbackContext, filters\n",
        "from google.colab import files\n",
        "import json\n",
        "\n",
        "# Directly assign the bot token\n",
        "BOT_TOKEN = \"7904087543:AAHHnMGSu9jh0SP4tRrGWGhL5lTT5pbEs9U\"\n",
        "\n",
        "# Install all dependencies upfront (run once per Colab session)\n",
        "!apt-get update && apt-get install -y libfluidsynth1 build-essential libasound2-dev libjack-dev fluidsynth libsndfile1\n",
        "!pip install --upgrade pip\n",
        "!pip install pytorch-fast-transformers==0.4.0\n",
        "!pip install ffmpeg skvideo moviepy==1.0.3 numpy==1.23.5 muspy\n",
        "!pip install numpy==1.23.5\n",
        "!pip install muspy\n",
        "\n",
        "# Copy necessary files from Google Cloud Storage\n",
        "!gsutil -m cp gs://cmt/loss_8_params.pt /content/video-bgm-generation/exp/\n",
        "!gsutil -m cp gs://magentadata/soundfonts/SGM-v2.01-Sal-Guit-Bass-V1.3.sf2 /content/video-bgm-generation/\n",
        "\n",
        "# Enable logging\n",
        "logging.basicConfig(format='%(asctime)s - %(levelname)s - %(message)s', level=logging.INFO)\n",
        "logger = logging.getLogger(__name__)\n",
        "\n",
        "# Start command\n",
        "def start(update: Update, context: CallbackContext):\n",
        "    update.message.reply_text(\"Send me a video and I'll generate background music for it!\")\n",
        "\n",
        "# Function to handle video uploads\n",
        "def handle_video(update: Update, context: CallbackContext):\n",
        "    # Check if the uploaded file is a video\n",
        "    video_file = update.message.video or update.message.document\n",
        "    if not video_file:\n",
        "        update.message.reply_text(\"Please send a video file.\")\n",
        "        return\n",
        "\n",
        "    file = context.bot.getFile(video_file.file_id)\n",
        "    file_path = \"/content/video-bgm-generation/videos/test_raw.mp4\"\n",
        "\n",
        "    # Download the video\n",
        "    file.download(file_path)\n",
        "    update.message.reply_text(\"Processing your video... This may take a few minutes.\")\n",
        "\n",
        "    # Set up directory structure for the video processing\n",
        "    video_dir = '/content/video-bgm-generation/videos'\n",
        "    if not os.path.exists(video_dir):\n",
        "        os.makedirs(video_dir)\n",
        "\n",
        "    os.chdir(\"/content/video-bgm-generation/\")\n",
        "\n",
        "    # Move the video to the appropriate directory\n",
        "    os.system(f'mv {file_path} videos/test_raw.mp4')\n",
        "\n",
        "    os.chdir(\"/content/video-bgm-generation/videos/\")\n",
        "    !rm test.mp4\n",
        "    !ffmpeg -i test_raw.mp4 -strict -2 -vf scale=-1:360 test.mp4\n",
        "\n",
        "    os.chdir(\"/content/video-bgm-generation/src/video2npz/\")\n",
        "    !rm -r VisBeatAssets/ fig/ flow/ image/ optical_flow/\n",
        "\n",
        "    # Run Optical Flow and Music Generation\n",
        "    !python optical_flow.py --video '/content/video-bgm-generation/videos/test.mp4' --method 'farneback'\n",
        "\n",
        "    !python3 /content/video-bgm-generation/src/video2npz/video2metadata.py --video /content/video-bgm-generation/videos/test.mp4\n",
        "    !python /content/video-bgm-generation/src/video2npz/metadata2numpy_mix.py --metadata /content/video-bgm-generation/src/video2npz/metadata.json --video /content/video-bgm-generation/videos/test.mp4 --out_dir /content/video-bgm-generation/inference\n",
        "\n",
        "    !python gen_midi_conditional.py -f \"../inference/test.npz\" -c \"../exp/loss_8_params.pt\" -n 1 loss\n",
        "\n",
        "    # Send the generated MIDI file back to the user\n",
        "    midi_file = \"/content/video-bgm-generation/inference/test.npz_0.mid\"\n",
        "    if os.path.exists(midi_file):\n",
        "        update.message.reply_text(\"Background music generated! Sending the MIDI file...\")\n",
        "        context.bot.send_document(chat_id=update.message.chat_id, document=open(midi_file, \"rb\"))\n",
        "    else:\n",
        "        update.message.reply_text(\"Failed to generate music. Please try again.\")\n",
        "\n",
        "    # Cleanup\n",
        "    os.remove(file_path)\n",
        "    # Optionally, remove other temporary files\n",
        "\n",
        "# Main function to start the bot\n",
        "def main():\n",
        "    updater = Updater(BOT_TOKEN, use_context=True)\n",
        "    dp = updater.dispatcher\n",
        "\n",
        "    # Command and message handlers\n",
        "    dp.add_handler(CommandHandler(\"start\", start))\n",
        "    dp.add_handler(MessageHandler(filters.Video | filters.Document, handle_video))\n",
        "\n",
        "    # Start polling and keep the bot running\n",
        "    updater.start_polling()\n",
        "    updater.idle()\n",
        "\n",
        "if __name__ == \"__main__\":\n",
        "    main()\n"
      ],
      "metadata": {
        "id": "PXWWNY3mpsRi"
      },
      "execution_count": null,
      "outputs": []
    },
    {
      "cell_type": "markdown",
      "source": [
        "Download checkpoint and soundfont\n",
        "\n"
      ],
      "metadata": {
        "id": "X9ZN2EbvG9J4"
      }
    },
    {
      "cell_type": "code",
      "source": [
        "!gsutil -m cp gs://cmt/loss_8_params.pt /content/video-bgm-generation/exp/\n",
        "!gsutil -m cp gs://magentadata/soundfonts/SGM-v2.01-Sal-Guit-Bass-V1.3.sf2 /content/video-bgm-generation/"
      ],
      "metadata": {
        "id": "c7XER9vH8mfb"
      },
      "execution_count": null,
      "outputs": []
    },
    {
      "cell_type": "markdown",
      "source": [
        "Install dependencies"
      ],
      "metadata": {
        "id": "b4RRCIybl7_I"
      }
    },
    {
      "cell_type": "code",
      "source": [
        "!apt-get update && apt-get install libfluidsynth1 build-essential libasound2-dev libjack-dev fluidsynth"
      ],
      "metadata": {
        "id": "efg5Ya8cJL5o"
      },
      "execution_count": null,
      "outputs": []
    },
    {
      "cell_type": "code",
      "source": [
        "!pip install --upgrade pip\n",
        "# this may take ~15 minutes\n",
        "!pip install pytorch-fast-transformers==0.4.0\n",
        "# Note: Version of pytorch-fast-transformers is tricky - depends on your randomly assigned colab GPU, it could be 0.3.0 or 0.4.0 or others.\n",
        "# Incorrect fast-transformers version could lead to Errors or generating awful results for unknown reasons,\n",
        "# so you should try different versions, or refer to https://github.com/idiap/fast-transformers\n",
        "\n",
        "!pip install -r py3_requirements.txt\n",
        "os.chdir(\"/content/video-bgm-generation/src/video2npz/visbeat3/\")\n",
        "!python setup.py install"
      ],
      "metadata": {
        "id": "SkRSrynzSrA-"
      },
      "execution_count": null,
      "outputs": []
    },
    {
      "cell_type": "markdown",
      "source": [
        "# 2. Process input video"
      ],
      "metadata": {
        "id": "ygRjsNf5F0FT"
      }
    },
    {
      "cell_type": "markdown",
      "source": [
        "Upload your video\n",
        "\n",
        "It is recommended to use videos **less than 2 minutes**, otherwise it gets really slow"
      ],
      "metadata": {
        "id": "QMS5SlFOrVv-"
      }
    },
    {
      "cell_type": "code",
      "source": [
        "os.chdir(\"/content/video-bgm-generation/\")\n",
        "uploaded = files.upload()\n",
        "assert len(uploaded) == 1, \"upload one video file only\"\n",
        "filename = list(uploaded.keys())[0]\n",
        "os.system(f'mv {filename} videos/test_raw.mp4')"
      ],
      "metadata": {
        "id": "gczMG7TyQYCC"
      },
      "execution_count": null,
      "outputs": []
    },
    {
      "cell_type": "markdown",
      "source": [
        "Convert to 360p to speed up extracting optical flow and visbeats"
      ],
      "metadata": {
        "id": "dR5dCMo5qfk-"
      }
    },
    {
      "cell_type": "code",
      "source": [
        "os.chdir(\"/content/video-bgm-generation/videos/\")\n",
        "!rm test.mp4\n",
        "!ffmpeg -i test_raw.mp4 -strict -2 -vf scale=-1:360 test.mp4"
      ],
      "metadata": {
        "id": "RzRrVu9RqTZ6"
      },
      "execution_count": null,
      "outputs": []
    },
    {
      "cell_type": "markdown",
      "source": [
        "Extracting optical flow and visbeats, convert video into npz file"
      ],
      "metadata": {
        "id": "sgm_TOq7QYXn"
      }
    },
    {
      "cell_type": "code",
      "source": [
        "os.chdir(\"/content/video-bgm-generation/src/video2npz/\")\n",
        "!rm -r VisBeatAssets/ fig/ flow/ image/ optical_flow/\n",
        "\n",
        "# extracting optical flow and visbeats may be slow"
      ],
      "metadata": {
        "id": "y_l8VDLFFE-c"
      },
      "execution_count": null,
      "outputs": []
    },
    {
      "cell_type": "code",
      "source": [
        "!pip install ffmpeg\n",
        "!pip install skvideo\n"
      ],
      "metadata": {
        "id": "A6cOysP8Qrof"
      },
      "execution_count": null,
      "outputs": []
    },
    {
      "cell_type": "code",
      "source": [
        "!python optical_flow.py --video '/content/video-bgm-generation/videos/test.mp4' --method 'farneback'\n"
      ],
      "metadata": {
        "id": "pTNQAI8zQi3d"
      },
      "execution_count": null,
      "outputs": []
    },
    {
      "cell_type": "code",
      "source": [
        "!pip install moviepy==1.0.3\n"
      ],
      "metadata": {
        "id": "QQWRRx9TUs_o"
      },
      "execution_count": null,
      "outputs": []
    },
    {
      "cell_type": "code",
      "source": [
        "os.chdir(\"/content/video-bgm-generation/src/video2npz/\")"
      ],
      "metadata": {
        "id": "rkCepyTUVNlY"
      },
      "execution_count": null,
      "outputs": []
    },
    {
      "cell_type": "code",
      "source": [
        "!pip install numpy==1.23.5\n"
      ],
      "metadata": {
        "id": "BFF9oCzkVpSX"
      },
      "execution_count": null,
      "outputs": []
    },
    {
      "cell_type": "code",
      "source": [
        "import os\n",
        "os.environ['XDG_RUNTIME_DIR'] = \"/tmp/runtime\"\n"
      ],
      "metadata": {
        "id": "DlgYOcfzaTFL"
      },
      "execution_count": null,
      "outputs": []
    },
    {
      "cell_type": "code",
      "source": [
        "import os\n",
        "os.environ[\"ALSA_CARD\"] = \"hw:0\"\n",
        "os.environ[\"SDL_AUDIODRIVER\"] = \"dummy\"\n"
      ],
      "metadata": {
        "id": "e2A9vdZhan4f"
      },
      "execution_count": null,
      "outputs": []
    },
    {
      "cell_type": "code",
      "source": [
        "!apt-get install -y libsndfile1\n"
      ],
      "metadata": {
        "id": "1CYV0FcAbEIt"
      },
      "execution_count": null,
      "outputs": []
    },
    {
      "cell_type": "code",
      "source": [
        "\n"
      ],
      "metadata": {
        "id": "TwciIvSkgEbC"
      },
      "execution_count": null,
      "outputs": []
    },
    {
      "cell_type": "code",
      "source": [
        "!python3 /content/video-bgm-generation/src/video2npz/video2metadata.py --video /content/video-bgm-generation/videos/test.mp4\n"
      ],
      "metadata": {
        "id": "YZP09xq2Ulhn"
      },
      "execution_count": null,
      "outputs": []
    },
    {
      "cell_type": "code",
      "source": [
        "!python /content/video-bgm-generation/src/video2npz/metadata2numpy_mix.py --metadata /content/video-bgm-generation/src/video2npz/metadata.json --video /content/video-bgm-generation/videos/test.mp4 --out_dir /content/video-bgm-generation/inference\n"
      ],
      "metadata": {
        "id": "lclfcMS3iTX0"
      },
      "execution_count": null,
      "outputs": []
    },
    {
      "cell_type": "code",
      "source": [
        "!pip install muspy\n"
      ],
      "metadata": {
        "id": "vEQw0vc-mXtt"
      },
      "execution_count": null,
      "outputs": []
    },
    {
      "cell_type": "markdown",
      "source": [
        "# 3. Run the model to generate background music"
      ],
      "metadata": {
        "id": "-JASD-zxJZJt"
      }
    },
    {
      "cell_type": "markdown",
      "source": [
        "Run inference to generate MIDI (.mid) output"
      ],
      "metadata": {
        "id": "TpZnfeIsHhyM"
      }
    },
    {
      "cell_type": "code",
      "source": [
        "os.chdir(\"/content/video-bgm-generation/src/\")\n",
        "!python gen_midi_conditional.py -f \"../inference/test.npz\" -c \"../exp/loss_8_params.pt\" -n 1"
      ],
      "metadata": {
        "id": "Xxus1H-XGHXj"
      },
      "execution_count": null,
      "outputs": []
    },
    {
      "cell_type": "code",
      "source": [
        "from google.colab import files\n"
      ],
      "metadata": {
        "id": "6BJiFIvRvOfN"
      },
      "execution_count": null,
      "outputs": []
    },
    {
      "cell_type": "markdown",
      "source": [
        "Convert midi into audio: use **GarageBand (recommended)** or midi2audio\n",
        "\n",
        "Remember to **set tempo to the value of tempo in video2npz/metadata.json**"
      ],
      "metadata": {
        "id": "pR3rUJWIJnVp"
      }
    },
    {
      "cell_type": "code",
      "source": [
        "from google.colab import files\n",
        "import os\n",
        "import json\n",
        "\n",
        "# Change directory\n",
        "os.chdir(\"/content/video-bgm-generation/src/\")\n",
        "\n",
        "# Download the file\n",
        "files.download('../inference/test.npz_0.mid')\n",
        "\n",
        "# Load metadata and print tempo\n",
        "with open(\"video2npz/metadata.json\") as f:\n",
        "    tempo = json.load(f)['tempo']\n",
        "    print(\"tempo:\", tempo)\n"
      ],
      "metadata": {
        "id": "lKR7qWinMUFM"
      },
      "execution_count": null,
      "outputs": []
    },
    {
      "cell_type": "code",
      "source": [
        "!apt-get update\n",
        "!apt-get install -y fluidsynth"
      ],
      "metadata": {
        "id": "TGxqX9vpvz2V"
      },
      "execution_count": null,
      "outputs": []
    },
    {
      "cell_type": "code",
      "source": [
        "!pip install pyfluidsynth"
      ],
      "metadata": {
        "id": "KeBi1aHny9xJ"
      },
      "execution_count": null,
      "outputs": []
    },
    {
      "cell_type": "code",
      "source": [
        "!pip install --force-reinstall pyfluidsynth"
      ],
      "metadata": {
        "id": "qIcCRg1ozW-v"
      },
      "execution_count": null,
      "outputs": []
    },
    {
      "cell_type": "code",
      "source": [
        "import pyfluidsynth\n",
        "print(pyfluidsynth.__version__)  # This should print the version if installed correctly"
      ],
      "metadata": {
        "id": "zFmrpZbtzM5N"
      },
      "execution_count": null,
      "outputs": []
    },
    {
      "cell_type": "markdown",
      "source": [
        "Generate audio with midi2audio\n",
        "\n",
        "Instead of running this cell, we recommend using GarageBand or other softwares, since their soundfonts are better. But this also works fine"
      ],
      "metadata": {
        "id": "GzEb08C4ovjD"
      }
    },
    {
      "cell_type": "code",
      "source": [
        "import note_seq\n",
        "from pretty_midi import PrettyMIDI\n",
        "import pyfluidsynth\n",
        "import numpy as np\n",
        "import os\n",
        "\n",
        "SAMPLE_RATE = 16000\n",
        "SF2_PATH = '/content/video-bgm-generation/SGM-v2.01-Sal-Guit-Bass-V1.3.sf2'\n",
        "os.chdir(\"/content/video-bgm-generation/inference/\")\n",
        "\n",
        "# Load MIDI file\n",
        "input_mid = 'test.npz_0.mid'\n",
        "midi_obj = PrettyMIDI(input_mid)\n",
        "\n",
        "# Convert tempo (adjust if necessary)\n",
        "tempo = 120  # Adjust tempo if needed\n",
        "midi_length = midi_obj.get_end_time()\n",
        "midi_obj.adjust_times([0, midi_length], [0, midi_length*120/tempo])\n",
        "processed_mid = input_mid[:-4] + \"_processed.mid\"\n",
        "midi_obj.write(processed_mid)\n",
        "\n",
        "# Convert MIDI to audio\n",
        "fs = pyfluidsynth.Synth()\n",
        "fs.sfload(SF2_PATH)\n",
        "fs.start(driver=\"alsa\")  # Ensures audio output works correctly\n",
        "fs.midi_to_audio(processed_mid, \"music.wav\")\n",
        "\n",
        "print(\"Audio generated as 'music.wav'\")\n"
      ],
      "metadata": {
        "id": "fZHzA0UtKDWa"
      },
      "execution_count": null,
      "outputs": []
    },
    {
      "cell_type": "markdown",
      "source": [
        "Combine original video and audio into video with BGM\n",
        "\n",
        "Generate/upload the audio file under `inference`, name it as `music.mp3`, and run this to combine video and music"
      ],
      "metadata": {
        "id": "KKObBCKBKlU1"
      }
    },
    {
      "cell_type": "code",
      "source": [
        "os.chdir(\"/content/video-bgm-generation/inference/\")\n",
        "!rm output.mp4\n",
        "!ffmpeg -i ../videos/test_raw.mp4 -i music.mp3 -c:v copy -c:a aac -strict experimental -map 0:v:0 -map 1:a:0 output.mp4\n",
        "files.download('output.mp4')"
      ],
      "metadata": {
        "id": "SqNLXFzmLPjP"
      },
      "execution_count": null,
      "outputs": []
    }
  ]
}