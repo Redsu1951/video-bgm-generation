{
  "nbformat": 4,
  "nbformat_minor": 0,
  "metadata": {
    "colab": {
      "name": "CMT.ipynb",
      "private_outputs": true,
      "provenance": [],
      "collapsed_sections": [],
      "mount_file_id": "1-0PQ1lCH-S0J4C1x0l-AFzFVIFTEse7W",
      "authorship_tag": "ABX9TyP/6bzeLp3Sk+EqZzclzS3c",
      "include_colab_link": true
    },
    "kernelspec": {
      "name": "python3",
      "display_name": "Python 3"
    },
    "language_info": {
      "name": "python"
    },
    "accelerator": "GPU"
  },
  "cells": [
    {
      "cell_type": "markdown",
      "metadata": {
        "id": "view-in-github",
        "colab_type": "text"
      },
      "source": [
        "<a href=\"https://colab.research.google.com/github/wzk1015/video-bgm-generation/blob/develop/CMT.ipynb\" target=\"_parent\"><img src=\"https://colab.research.google.com/assets/colab-badge.svg\" alt=\"Open In Colab\"/></a>"
      ]
    },
    {
      "cell_type": "markdown",
      "source": [
        "# **Demo of Controllable Music Transformer**\n",
        "\n",
        "We provide a colab notebook for running inference with CMT. You can upload a video and generate a background music using this notebook."
      ],
      "metadata": {
        "id": "Qx-JUsBYpv3X"
      }
    },
    {
      "cell_type": "markdown",
      "source": [
        "# 1. Clone the repo and download checkpoint from google drive"
      ],
      "metadata": {
        "id": "iGsKCYiR8ZBy"
      }
    },
    {
      "cell_type": "code",
      "execution_count": null,
      "metadata": {
        "id": "YMTYugKn6NNp"
      },
      "outputs": [],
      "source": [
        "import os\n",
        "from google.colab import files\n",
        "import json\n",
        "# get flownet2-pytorch source\n",
        "os.chdir('/content')\n",
        "!git clone https://github.com/wzk1015/video-bgm-generation -b develop\n",
        "os.chdir('/content/video-bgm-generation')"
      ]
    },
    {
      "cell_type": "code",
      "source": [
        "from google_drive_downloader import GoogleDriveDownloader as gdd\n",
        "# gdd.download_file_from_google_drive(file_id='1Ud2-GXEr4PbRDDe-FZJwzqqZrbbWFxM',dest_path='exp/loss_8_params.pt', showsize=True)\n",
        "gdd.download_file_from_google_drive(file_id='1VZkoiVOonffpJWxZah-AdQkxaTFIzZ6q',dest_path='./Essential Keys-sforzando-v9.6.sf2', showsize=True)"
      ],
      "metadata": {
        "id": "c7XER9vH8mfb"
      },
      "execution_count": null,
      "outputs": []
    },
    {
      "cell_type": "code",
      "source": [
        "# DEBUG CELL, IGNORE THIS\n",
        "\n",
        "# !cp /content/drive/MyDrive/CMT/loss_8_params.pt exp/\n",
        "# !cp /content/drive/MyDrive/video-bgm-generation/videos/final_640.mp4 videos/test.mp4\n",
        "\n",
        "# !pip install midi2audio\n",
        "# !pip install pyfluidsynth\n",
        "\n",
        "# !apt-get install fluidsynth\n",
        "\n",
        "# # !fluidsynth\n",
        "# import midi2audio\n",
        "# fs = midi2audio.FluidSynth('./splendid 136.sf2')\n",
        "# fs.midi_to_audio('get_2.mid', 'output.mp3')\n",
        "\n",
        "# os.chdir(\"/content/video-bgm-generation/videos/\")\n",
        "# !mv test.mp4 test_raw.mp4\n",
        "!ls -lh \"/content/video-bgm-generation/inference/\""
      ],
      "metadata": {
        "id": "nchE7tP29Xa0"
      },
      "execution_count": null,
      "outputs": []
    },
    {
      "cell_type": "markdown",
      "source": [
        "# 2. Install dependencies"
      ],
      "metadata": {
        "id": "b4RRCIybl7_I"
      }
    },
    {
      "cell_type": "code",
      "source": [
        "!pip install -r py3_requirements.txt\n",
        "# this may take a long time"
      ],
      "metadata": {
        "id": "SkRSrynzSrA-"
      },
      "execution_count": null,
      "outputs": []
    },
    {
      "cell_type": "code",
      "source": [
        "os.chdir(\"/content/video-bgm-generation/src/video2npz/visbeat3/\")\n",
        "!python setup.py install"
      ],
      "metadata": {
        "id": "ZfE7L4eIZTy1"
      },
      "execution_count": null,
      "outputs": []
    },
    {
      "cell_type": "markdown",
      "source": [
        "# 3. Upload your video"
      ],
      "metadata": {
        "id": "ygRjsNf5F0FT"
      }
    },
    {
      "cell_type": "markdown",
      "source": [
        "It is recommended to use videos **less than 2 minutes**, otherwise it gets really slow"
      ],
      "metadata": {
        "id": "QMS5SlFOrVv-"
      }
    },
    {
      "cell_type": "code",
      "source": [
        "os.chdir(\"/content/video-bgm-generation/\")\n",
        "uploaded = files.upload()\n",
        "assert len(uploaded) == 1, \"upload one video file only\"\n",
        "filename = list(uploaded.keys())[0]\n",
        "os.system(f'mv {filename} videos/test_raw.mp4')"
      ],
      "metadata": {
        "id": "gczMG7TyQYCC"
      },
      "execution_count": null,
      "outputs": []
    },
    {
      "cell_type": "markdown",
      "source": [
        "Convert to 360p to speed up extracting optical flow and visbeats"
      ],
      "metadata": {
        "id": "dR5dCMo5qfk-"
      }
    },
    {
      "cell_type": "code",
      "source": [
        "os.chdir(\"/content/video-bgm-generation/videos/\")\n",
        "!rm test.mp4\n",
        "!ffmpeg -i test_raw.mp4 -strict -2 -vf scale=-1:360 test.mp4"
      ],
      "metadata": {
        "id": "RzRrVu9RqTZ6"
      },
      "execution_count": null,
      "outputs": []
    },
    {
      "cell_type": "markdown",
      "source": [
        "# 4. Convert video into npz file"
      ],
      "metadata": {
        "id": "sgm_TOq7QYXn"
      }
    },
    {
      "cell_type": "code",
      "source": [
        "os.chdir(\"/content/video-bgm-generation/src/video2npz/\")\n",
        "!rm -r VisBeatAssets/ fig/ flow/ image/ optical_flow/\n",
        "!bash video2npz.sh ../../videos/test.mp4\n",
        "os.chdir(\"../\")\n",
        "# extracting optical flow and visbeats may be slow"
      ],
      "metadata": {
        "id": "y_l8VDLFFE-c"
      },
      "execution_count": null,
      "outputs": []
    },
    {
      "cell_type": "markdown",
      "source": [
        "# 5. Run the model to generate music in MIDI format (.mid) "
      ],
      "metadata": {
        "id": "-JASD-zxJZJt"
      }
    },
    {
      "cell_type": "code",
      "source": [
        "os.chdir(\"/content/video-bgm-generation/src/\")\n",
        "!python gen_midi_conditional.py -f \"../inference/test.npz\" -c \"../exp/loss_8_params.pt\""
      ],
      "metadata": {
        "id": "Xxus1H-XGHXj"
      },
      "execution_count": null,
      "outputs": []
    },
    {
      "cell_type": "markdown",
      "source": [
        "# 6. Convert midi into audio: use **GarageBand (recommended)** or midi2audio\n",
        "\n",
        "Remember to **set tempo to the value of tempo in video2npz/metadata.json**"
      ],
      "metadata": {
        "id": "pR3rUJWIJnVp"
      }
    },
    {
      "cell_type": "code",
      "source": [
        "os.chdir(\"/content/video-bgm-generation/src/\")\n",
        "files.download('../inference/test.npz_0.mid')\n",
        "\n",
        "with open(\"video2npz/metadata.json\") as f:\n",
        "    tempo = json.load(f)['tempo']\n",
        "    print(\"tempo:\", tempo)"
      ],
      "metadata": {
        "id": "lKR7qWinMUFM"
      },
      "execution_count": null,
      "outputs": []
    },
    {
      "cell_type": "markdown",
      "source": [
        "### Generate audio with midi2audio\n",
        "\n",
        "Instead of running this cell, we strongly recommend using GarageBand or other softwares, since their soundfonts are better. But this also works fine"
      ],
      "metadata": {
        "id": "GzEb08C4ovjD"
      }
    },
    {
      "cell_type": "code",
      "source": [
        "# TODO"
      ],
      "metadata": {
        "id": "fZHzA0UtKDWa"
      },
      "execution_count": null,
      "outputs": []
    },
    {
      "cell_type": "markdown",
      "source": [
        "# 7. Combine original video and audio into video with BGM\n",
        "Generate/upload the audio file under `inference`, name it as `music.mp3`, and run ffmpeg to combine video and music"
      ],
      "metadata": {
        "id": "KKObBCKBKlU1"
      }
    },
    {
      "cell_type": "code",
      "source": [
        "os.chdir(\"/content/video-bgm-generation/inference/\")\n",
        "!rm output.mp4\n",
        "!ffmpeg -i ../videos/test.mp4 -i music.mp3 -c:v copy -c:a aac -strict experimental -map 0:v:0 -map 1:a:0 output.mp4\n",
        "files.download('output.mp4')"
      ],
      "metadata": {
        "id": "SqNLXFzmLPjP"
      },
      "execution_count": null,
      "outputs": []
    }
  ]
}